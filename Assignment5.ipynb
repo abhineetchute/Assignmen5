{
 "cells": [
  {
   "cell_type": "code",
   "execution_count": 1,
   "metadata": {},
   "outputs": [
    {
     "name": "stderr",
     "output_type": "stream",
     "text": [
      "Using TensorFlow backend.\n"
     ]
    }
   ],
   "source": [
    "import numpy as np\n",
    "from sklearn.model_selection import train_test_split\n",
    "import tensorflow as tf\n",
    "from tensorflow.python import keras\n",
    "from tensorflow.python.keras.models import Sequential\n",
    "from tensorflow.python.keras.layers import Dense, Flatten, Conv2D, Dropout, MaxPooling2D\n",
    "from keras.callbacks import EarlyStopping\n",
    "from keras.callbacks import ReduceLROnPlateau\n",
    "import idx2numpy\n",
    "import cv2 as cv\n",
    "import matplotlib.pyplot as plt"
   ]
  },
  {
   "cell_type": "code",
   "execution_count": 2,
   "metadata": {},
   "outputs": [
    {
     "name": "stdout",
     "output_type": "stream",
     "text": [
      "(60000, 28, 28)\n"
     ]
    }
   ],
   "source": [
    "#Loading Data\n",
    "train_images = \"/home/abhineet/Documents/Quantiphi/Training/Assignments/Assignment5/train-images-idx3-ubyte\"\n",
    "train_labels  = \"/home/abhineet/Documents/Quantiphi/Training/Assignments/Assignment5/train-labels-idx1-ubyte\"\n",
    "test_images = \"/home/abhineet/Documents/Quantiphi/Training/Assignments/Assignment5/t10k-images-idx3-ubyte\"\n",
    "test_labels  = \"/home/abhineet/Documents/Quantiphi/Training/Assignments/Assignment5/t10k-labels-idx1-ubyte\"\n",
    "\n",
    "\n",
    "X_train = idx2numpy.convert_from_file(train_images)\n",
    "y_train = idx2numpy.convert_from_file(train_labels)\n",
    "X_test = idx2numpy.convert_from_file(test_images)\n",
    "y_test = idx2numpy.convert_from_file(test_labels)\n",
    "\n",
    "print(np.shape(X_train))"
   ]
  },
  {
   "cell_type": "code",
   "execution_count": 11,
   "metadata": {},
   "outputs": [],
   "source": [
    "# Create a dictionary for each type of label \n",
    "labels = {0 : \"T-shirt/top\", 1: \"Trouser\", 2: \"Pullover\", 3: \"Dress\", 4: \"Coat\",\n",
    "          5: \"Sandal\", 6: \"Shirt\", 7: \"Sneaker\", 8: \"Bag\", 9: \"Ankle Boot\"}\n",
    "\n",
    "nR = 28\n",
    "nC = 28\n",
    "classes = 10\n",
    "#Model\n",
    "epochs = 40\n",
    "b = 128\n",
    "\n",
    "IS_LOCAL = False"
   ]
  },
  {
   "cell_type": "code",
   "execution_count": 4,
   "metadata": {},
   "outputs": [
    {
     "data": {
      "text/plain": [
       "<matplotlib.image.AxesImage at 0x7f7ab2a9ce80>"
      ]
     },
     "execution_count": 4,
     "metadata": {},
     "output_type": "execute_result"
    },
    {
     "data": {
      "image/png": "[encoded data removed]",
      "text/plain": [
       "<Figure size 432x288 with 1 Axes>"
      ]
     },
     "metadata": {
      "needs_background": "light"
     },
     "output_type": "display_data"
    }
   ],
   "source": [
    "#Data Transformation and Augmentation\n",
    "\n",
    "T1 = np.float32([[1,0,-6],[0,1,-6]])\n",
    "trans1 = np.zeros((500,28,28))\n",
    "for i in range(500):\n",
    "    trans1[i] = cv.warpAffine(X_train[i],T1,(28,28))\n",
    "plt.imshow(trans1[1],cmap='gray')"
   ]
  },
  {
   "cell_type": "code",
   "execution_count": 5,
   "metadata": {},
   "outputs": [
    {
     "data": {
      "text/plain": [
       "<matplotlib.image.AxesImage at 0x7f7ab26bf0f0>"
      ]
     },
     "execution_count": 5,
     "metadata": {},
     "output_type": "execute_result"
    },
    {
     "data": {
      "image/png": "[encoded data removed]",
      "text/plain": [
       "<Figure size 432x288 with 1 Axes>"
      ]
     },
     "metadata": {
      "needs_background": "light"
     },
     "output_type": "display_data"
    }
   ],
   "source": [
    "T2 = np.float32([[1,0,6],[0,1,6]])\n",
    "trans2 = np.zeros((500,28,28))\n",
    "for i in range(500):\n",
    "    trans2[i] = cv.warpAffine(X_train[500+i],T2,(28,28))\n",
    "plt.imshow(trans2[0],cmap='gray')"
   ]
  },
  {
   "cell_type": "code",
   "execution_count": 6,
   "metadata": {},
   "outputs": [
    {
     "data": {
      "text/plain": [
       "<matplotlib.image.AxesImage at 0x7f7ab26a3390>"
      ]
     },
     "execution_count": 6,
     "metadata": {},
     "output_type": "execute_result"
    },
    {
     "data": {
      "image/png": "[encoded data removed]",
      "text/plain": [
       "<Figure size 432x288 with 1 Axes>"
      ]
     },
     "metadata": {
      "needs_background": "light"
     },
     "output_type": "display_data"
    }
   ],
   "source": [
    "rot1 = np.zeros((500,28,28))\n",
    "for i in range(500):\n",
    "    theta = np.random.randint(-60,60)\n",
    "    R1 = cv.getRotationMatrix2D((14,14),theta,1.5)\n",
    "    rot1[i] = cv.warpAffine(X_train[1000+i],R1,(28,28))\n",
    "plt.imshow(rot1[0],cmap='gray')"
   ]
  },
  {
   "cell_type": "code",
   "execution_count": 7,
   "metadata": {},
   "outputs": [
    {
     "data": {
      "text/plain": [
       "<matplotlib.image.AxesImage at 0x7f7ab2006048>"
      ]
     },
     "execution_count": 7,
     "metadata": {},
     "output_type": "execute_result"
    },
    {
     "data": {
      "image/png": "[encoded data removed]",
      "text/plain": [
       "<Figure size 432x288 with 1 Axes>"
      ]
     },
     "metadata": {
      "needs_background": "light"
     },
     "output_type": "display_data"
    }
   ],
   "source": [
    "rot2 = np.zeros((500,28,28))\n",
    "for i in range(500):\n",
    "    theta = np.random.randint(-30,30)\n",
    "    R2 = cv.getRotationMatrix2D((14,14),theta,1.0)\n",
    "    rot2[i] = cv.warpAffine(X_train[1500+i],R2,(28,28))\n",
    "plt.imshow(rot2[0],cmap='gray')"
   ]
  },
  {
   "cell_type": "code",
   "execution_count": 8,
   "metadata": {},
   "outputs": [
    {
     "data": {
      "text/plain": [
       "<matplotlib.image.AxesImage at 0x7f7ab1fd9c88>"
      ]
     },
     "execution_count": 8,
     "metadata": {},
     "output_type": "execute_result"
    },
    {
     "data": {
      "image/png": "[encoded data removed]",
      "text/plain": [
       "<Figure size 432x288 with 1 Axes>"
      ]
     },
     "metadata": {
      "needs_background": "light"
     },
     "output_type": "display_data"
    }
   ],
   "source": [
    "rot3 = np.zeros((500,28,28))\n",
    "for i in range(500):\n",
    "    theta = np.random.randint(-45,45)\n",
    "    R3 = cv.getRotationMatrix2D((14,14),theta, 0.75)\n",
    "    rot3[i] = cv.warpAffine(X_train[2000+i],R3,(28,28))\n",
    "plt.imshow(rot3[31],cmap='gray')"
   ]
  },
  {
   "cell_type": "code",
   "execution_count": 9,
   "metadata": {},
   "outputs": [],
   "source": [
    "X_train = np.concatenate((X_train, trans1, trans2, rot1,rot2,rot3),axis=0)\n",
    "y_train= np.concatenate((y_train, y_train[0:500],y_train[500:1000],y_train[1000:1500],y_train[1500:2000],y_train[2000:2500]),axis=0)"
   ]
  },
  {
   "cell_type": "code",
   "execution_count": 10,
   "metadata": {},
   "outputs": [],
   "source": [
    "#Data Preprocessing           \n",
    "def X_preprocessing(raw):\n",
    "    num_images = raw.shape[0]\n",
    "    x_shaped_array = raw.reshape(num_images, nR, nC, 1)\n",
    "    out_x = x_shaped_array / 255\n",
    "    return out_x\n",
    "\n",
    "def y_preprocessing(raw):\n",
    "    out_y = keras.utils.to_categorical(raw, classes)\n",
    "    return out_y\n",
    "\n",
    "X_train = X_preprocessing(X_train)\n",
    "y_train = y_preprocessing(y_train)\n",
    "X_test = X_preprocessing(X_test)\n",
    "y_test = y_preprocessing(y_test)\n",
    "\n",
    "X_train, X_val, y_train, y_val = train_test_split(X_train, y_train, test_size= 0.2, random_state= 5)"
   ]
  },
  {
   "cell_type": "code",
   "execution_count": 12,
   "metadata": {},
   "outputs": [
    {
     "name": "stdout",
     "output_type": "stream",
     "text": [
      "WARNING:tensorflow:From /home/abhineet/.local/lib/python3.7/site-packages/tensorflow/python/ops/resource_variable_ops.py:435: colocate_with (from tensorflow.python.framework.ops) is deprecated and will be removed in a future version.\n",
      "Instructions for updating:\n",
      "Colocations handled automatically by placer.\n",
      "WARNING:tensorflow:From /home/abhineet/.local/lib/python3.7/site-packages/tensorflow/python/keras/layers/core.py:143: calling dropout (from tensorflow.python.ops.nn_ops) with keep_prob is deprecated and will be removed in a future version.\n",
      "Instructions for updating:\n",
      "Please use `rate` instead of `keep_prob`. Rate should be set to `rate = 1 - keep_prob`.\n",
      "_________________________________________________________________\n",
      "Layer (type)                 Output Shape              Param #   \n",
      "=================================================================\n",
      "conv2d (Conv2D)              (None, 26, 26, 6)         60        \n",
      "_________________________________________________________________\n",
      "max_pooling2d (MaxPooling2D) (None, 13, 13, 6)         0         \n",
      "_________________________________________________________________\n",
      "conv2d_1 (Conv2D)            (None, 11, 11, 16)        880       \n",
      "_________________________________________________________________\n",
      "dropout (Dropout)            (None, 11, 11, 16)        0         \n",
      "_________________________________________________________________\n",
      "max_pooling2d_1 (MaxPooling2 (None, 5, 5, 16)          0         \n",
      "_________________________________________________________________\n",
      "flatten (Flatten)            (None, 400)               0         \n",
      "_________________________________________________________________\n",
      "dense (Dense)                (None, 128)               51328     \n",
      "_________________________________________________________________\n",
      "dropout_1 (Dropout)          (None, 128)               0         \n",
      "_________________________________________________________________\n",
      "dense_1 (Dense)              (None, 10)                1290      \n",
      "=================================================================\n",
      "Total params: 53,558\n",
      "Trainable params: 53,558\n",
      "Non-trainable params: 0\n",
      "_________________________________________________________________\n",
      "Train on 50000 samples, validate on 12500 samples\n",
      "WARNING:tensorflow:From /home/abhineet/.local/lib/python3.7/site-packages/tensorflow/python/ops/math_ops.py:3066: to_int32 (from tensorflow.python.ops.math_ops) is deprecated and will be removed in a future version.\n",
      "Instructions for updating:\n",
      "Use tf.cast instead.\n",
      "Epoch 1/40\n",
      "50000/50000 [==============================] - 7s 139us/sample - loss: 0.7640 - acc: 0.7284 - val_loss: 0.5456 - val_acc: 0.8050\n",
      "Epoch 2/40\n",
      "50000/50000 [==============================] - 7s 136us/sample - loss: 0.5063 - acc: 0.8166 - val_loss: 0.4564 - val_acc: 0.8389\n",
      "Epoch 3/40\n",
      "50000/50000 [==============================] - 7s 141us/sample - loss: 0.4487 - acc: 0.8359 - val_loss: 0.4369 - val_acc: 0.8435\n",
      "Epoch 4/40\n",
      "50000/50000 [==============================] - 7s 146us/sample - loss: 0.4149 - acc: 0.8484 - val_loss: 0.3962 - val_acc: 0.8568\n",
      "Epoch 5/40\n",
      "50000/50000 [==============================] - 7s 146us/sample - loss: 0.3926 - acc: 0.8565 - val_loss: 0.3782 - val_acc: 0.8621\n",
      "Epoch 6/40\n",
      "50000/50000 [==============================] - 7s 145us/sample - loss: 0.3732 - acc: 0.8637 - val_loss: 0.3591 - val_acc: 0.8705\n",
      "Epoch 7/40\n",
      "50000/50000 [==============================] - 7s 146us/sample - loss: 0.3592 - acc: 0.8681 - val_loss: 0.3492 - val_acc: 0.8720\n",
      "Epoch 8/40\n",
      "50000/50000 [==============================] - 7s 144us/sample - loss: 0.3448 - acc: 0.8728 - val_loss: 0.3376 - val_acc: 0.8745\n",
      "Epoch 9/40\n",
      "50000/50000 [==============================] - 8s 169us/sample - loss: 0.3363 - acc: 0.8761 - val_loss: 0.3351 - val_acc: 0.8761\n",
      "Epoch 10/40\n",
      "50000/50000 [==============================] - 8s 166us/sample - loss: 0.3263 - acc: 0.8773 - val_loss: 0.3299 - val_acc: 0.8782\n",
      "Epoch 11/40\n",
      "50000/50000 [==============================] - 9s 171us/sample - loss: 0.3196 - acc: 0.8813 - val_loss: 0.3349 - val_acc: 0.8773\n",
      "Epoch 12/40\n",
      "50000/50000 [==============================] - 8s 156us/sample - loss: 0.3122 - acc: 0.8835 - val_loss: 0.3233 - val_acc: 0.8814\n",
      "Epoch 13/40\n",
      "50000/50000 [==============================] - 8s 155us/sample - loss: 0.3059 - acc: 0.8869 - val_loss: 0.3206 - val_acc: 0.8821\n",
      "Epoch 14/40\n",
      "50000/50000 [==============================] - 7s 150us/sample - loss: 0.2990 - acc: 0.8883 - val_loss: 0.3071 - val_acc: 0.8855\n",
      "Epoch 15/40\n",
      "50000/50000 [==============================] - 7s 149us/sample - loss: 0.2923 - acc: 0.8903 - val_loss: 0.3094 - val_acc: 0.8840\n",
      "Epoch 16/40\n",
      "50000/50000 [==============================] - 7s 148us/sample - loss: 0.2884 - acc: 0.8932 - val_loss: 0.3088 - val_acc: 0.8873\n",
      "Epoch 17/40\n",
      "50000/50000 [==============================] - 8s 150us/sample - loss: 0.2857 - acc: 0.8933 - val_loss: 0.3007 - val_acc: 0.8866\n",
      "Epoch 18/40\n",
      "50000/50000 [==============================] - 8s 167us/sample - loss: 0.2817 - acc: 0.8941 - val_loss: 0.3053 - val_acc: 0.8874\n",
      "Epoch 19/40\n",
      "50000/50000 [==============================] - 9s 183us/sample - loss: 0.2791 - acc: 0.8958 - val_loss: 0.3165 - val_acc: 0.8795\n",
      "Epoch 20/40\n",
      "50000/50000 [==============================] - 9s 174us/sample - loss: 0.2740 - acc: 0.8975 - val_loss: 0.3006 - val_acc: 0.8898\n",
      "Epoch 21/40\n",
      "50000/50000 [==============================] - 8s 168us/sample - loss: 0.2675 - acc: 0.8991 - val_loss: 0.2919 - val_acc: 0.8891\n",
      "Epoch 22/40\n",
      "50000/50000 [==============================] - 8s 168us/sample - loss: 0.2656 - acc: 0.9014 - val_loss: 0.3058 - val_acc: 0.8870\n",
      "Epoch 23/40\n",
      "50000/50000 [==============================] - 8s 157us/sample - loss: 0.2636 - acc: 0.9011 - val_loss: 0.2961 - val_acc: 0.8906\n",
      "Epoch 24/40\n",
      "50000/50000 [==============================] - 8s 157us/sample - loss: 0.2562 - acc: 0.9034 - val_loss: 0.2897 - val_acc: 0.8916\n",
      "Epoch 25/40\n",
      "50000/50000 [==============================] - 8s 155us/sample - loss: 0.2554 - acc: 0.9042 - val_loss: 0.2965 - val_acc: 0.8892\n",
      "Epoch 26/40\n",
      "50000/50000 [==============================] - 8s 153us/sample - loss: 0.2540 - acc: 0.9029 - val_loss: 0.2928 - val_acc: 0.8918\n",
      "Epoch 27/40\n",
      "50000/50000 [==============================] - 8s 155us/sample - loss: 0.2498 - acc: 0.9053 - val_loss: 0.2891 - val_acc: 0.8911\n",
      "Epoch 28/40\n",
      "50000/50000 [==============================] - 7s 149us/sample - loss: 0.2483 - acc: 0.9061 - val_loss: 0.2930 - val_acc: 0.8925\n",
      "Epoch 29/40\n",
      "50000/50000 [==============================] - 7s 144us/sample - loss: 0.2451 - acc: 0.9063 - val_loss: 0.2926 - val_acc: 0.8911\n",
      "Epoch 30/40\n",
      "50000/50000 [==============================] - 7s 149us/sample - loss: 0.2415 - acc: 0.9092 - val_loss: 0.2917 - val_acc: 0.8929\n",
      "Epoch 31/40\n",
      "50000/50000 [==============================] - 7s 147us/sample - loss: 0.2399 - acc: 0.9096 - val_loss: 0.2914 - val_acc: 0.8892\n",
      "Epoch 32/40\n",
      "50000/50000 [==============================] - 7s 144us/sample - loss: 0.2379 - acc: 0.9090 - val_loss: 0.2905 - val_acc: 0.8926\n",
      "Epoch 33/40\n",
      "50000/50000 [==============================] - 7s 144us/sample - loss: 0.2359 - acc: 0.9113 - val_loss: 0.2897 - val_acc: 0.8938\n",
      "Epoch 34/40\n",
      "50000/50000 [==============================] - 7s 146us/sample - loss: 0.2335 - acc: 0.9123 - val_loss: 0.2843 - val_acc: 0.8947\n",
      "Epoch 35/40\n",
      "50000/50000 [==============================] - 8s 155us/sample - loss: 0.2324 - acc: 0.9118 - val_loss: 0.2927 - val_acc: 0.8932\n",
      "Epoch 36/40\n",
      "50000/50000 [==============================] - 8s 163us/sample - loss: 0.2260 - acc: 0.9135 - val_loss: 0.2878 - val_acc: 0.8950\n",
      "Epoch 37/40\n",
      "50000/50000 [==============================] - 8s 159us/sample - loss: 0.2265 - acc: 0.9146 - val_loss: 0.2855 - val_acc: 0.8938\n",
      "Epoch 38/40\n",
      "50000/50000 [==============================] - 8s 159us/sample - loss: 0.2274 - acc: 0.9134 - val_loss: 0.2881 - val_acc: 0.8934\n",
      "Epoch 39/40\n",
      "50000/50000 [==============================] - 7s 145us/sample - loss: 0.2255 - acc: 0.9159 - val_loss: 0.2886 - val_acc: 0.8930\n",
      "Epoch 40/40\n",
      "50000/50000 [==============================] - 8s 166us/sample - loss: 0.2194 - acc: 0.9162 - val_loss: 0.2906 - val_acc: 0.8954\n",
      "Test loss: 0.2725232820272446\n",
      "Test accuracy: 0.9007\n"
     ]
    },
    {
     "ename": "TypeError",
     "evalue": "Fetch argument None has invalid type <class 'NoneType'>",
     "output_type": "error",
     "traceback": [
      "\u001b[0;31m---------------------------------------------------------------------------\u001b[0m",
      "\u001b[0;31mTypeError\u001b[0m                                 Traceback (most recent call last)",
      "\u001b[0;32m<ipython-input-12-7d7c7c68b55a>\u001b[0m in \u001b[0;36m<module>\u001b[0;34m\u001b[0m\n\u001b[1;32m     37\u001b[0m \u001b[0;32mwith\u001b[0m \u001b[0mtf\u001b[0m\u001b[0;34m.\u001b[0m\u001b[0mSession\u001b[0m\u001b[0;34m(\u001b[0m\u001b[0;34m)\u001b[0m \u001b[0;32mas\u001b[0m \u001b[0msess\u001b[0m\u001b[0;34m:\u001b[0m\u001b[0;34m\u001b[0m\u001b[0;34m\u001b[0m\u001b[0m\n\u001b[1;32m     38\u001b[0m     \u001b[0mop\u001b[0m \u001b[0;34m=\u001b[0m \u001b[0mModel\u001b[0m\u001b[0;34m(\u001b[0m\u001b[0mX_train\u001b[0m\u001b[0;34m,\u001b[0m \u001b[0my_train\u001b[0m\u001b[0;34m,\u001b[0m \u001b[0mX_val\u001b[0m\u001b[0;34m,\u001b[0m \u001b[0my_val\u001b[0m\u001b[0;34m,\u001b[0m \u001b[0mX_test\u001b[0m\u001b[0;34m,\u001b[0m \u001b[0my_test\u001b[0m\u001b[0;34m)\u001b[0m\u001b[0;34m\u001b[0m\u001b[0;34m\u001b[0m\u001b[0m\n\u001b[0;32m---> 39\u001b[0;31m     \u001b[0msess\u001b[0m\u001b[0;34m.\u001b[0m\u001b[0mrun\u001b[0m\u001b[0;34m(\u001b[0m\u001b[0mop\u001b[0m\u001b[0;34m)\u001b[0m\u001b[0;34m\u001b[0m\u001b[0;34m\u001b[0m\u001b[0m\n\u001b[0m",
      "\u001b[0;32m~/.local/lib/python3.7/site-packages/tensorflow/python/client/session.py\u001b[0m in \u001b[0;36mrun\u001b[0;34m(self, fetches, feed_dict, options, run_metadata)\u001b[0m\n\u001b[1;32m    927\u001b[0m     \u001b[0;32mtry\u001b[0m\u001b[0;34m:\u001b[0m\u001b[0;34m\u001b[0m\u001b[0;34m\u001b[0m\u001b[0m\n\u001b[1;32m    928\u001b[0m       result = self._run(None, fetches, feed_dict, options_ptr,\n\u001b[0;32m--> 929\u001b[0;31m                          run_metadata_ptr)\n\u001b[0m\u001b[1;32m    930\u001b[0m       \u001b[0;32mif\u001b[0m \u001b[0mrun_metadata\u001b[0m\u001b[0;34m:\u001b[0m\u001b[0;34m\u001b[0m\u001b[0;34m\u001b[0m\u001b[0m\n\u001b[1;32m    931\u001b[0m         \u001b[0mproto_data\u001b[0m \u001b[0;34m=\u001b[0m \u001b[0mtf_session\u001b[0m\u001b[0;34m.\u001b[0m\u001b[0mTF_GetBuffer\u001b[0m\u001b[0;34m(\u001b[0m\u001b[0mrun_metadata_ptr\u001b[0m\u001b[0;34m)\u001b[0m\u001b[0;34m\u001b[0m\u001b[0;34m\u001b[0m\u001b[0m\n",
      "\u001b[0;32m~/.local/lib/python3.7/site-packages/tensorflow/python/client/session.py\u001b[0m in \u001b[0;36m_run\u001b[0;34m(self, handle, fetches, feed_dict, options, run_metadata)\u001b[0m\n\u001b[1;32m   1135\u001b[0m     \u001b[0;31m# Create a fetch handler to take care of the structure of fetches.\u001b[0m\u001b[0;34m\u001b[0m\u001b[0;34m\u001b[0m\u001b[0;34m\u001b[0m\u001b[0m\n\u001b[1;32m   1136\u001b[0m     fetch_handler = _FetchHandler(\n\u001b[0;32m-> 1137\u001b[0;31m         self._graph, fetches, feed_dict_tensor, feed_handles=feed_handles)\n\u001b[0m\u001b[1;32m   1138\u001b[0m \u001b[0;34m\u001b[0m\u001b[0m\n\u001b[1;32m   1139\u001b[0m     \u001b[0;31m# Run request and get response.\u001b[0m\u001b[0;34m\u001b[0m\u001b[0;34m\u001b[0m\u001b[0;34m\u001b[0m\u001b[0m\n",
      "\u001b[0;32m~/.local/lib/python3.7/site-packages/tensorflow/python/client/session.py\u001b[0m in \u001b[0;36m__init__\u001b[0;34m(self, graph, fetches, feeds, feed_handles)\u001b[0m\n\u001b[1;32m    469\u001b[0m     \"\"\"\n\u001b[1;32m    470\u001b[0m     \u001b[0;32mwith\u001b[0m \u001b[0mgraph\u001b[0m\u001b[0;34m.\u001b[0m\u001b[0mas_default\u001b[0m\u001b[0;34m(\u001b[0m\u001b[0;34m)\u001b[0m\u001b[0;34m:\u001b[0m\u001b[0;34m\u001b[0m\u001b[0;34m\u001b[0m\u001b[0m\n\u001b[0;32m--> 471\u001b[0;31m       \u001b[0mself\u001b[0m\u001b[0;34m.\u001b[0m\u001b[0m_fetch_mapper\u001b[0m \u001b[0;34m=\u001b[0m \u001b[0m_FetchMapper\u001b[0m\u001b[0;34m.\u001b[0m\u001b[0mfor_fetch\u001b[0m\u001b[0;34m(\u001b[0m\u001b[0mfetches\u001b[0m\u001b[0;34m)\u001b[0m\u001b[0;34m\u001b[0m\u001b[0;34m\u001b[0m\u001b[0m\n\u001b[0m\u001b[1;32m    472\u001b[0m     \u001b[0mself\u001b[0m\u001b[0;34m.\u001b[0m\u001b[0m_fetches\u001b[0m \u001b[0;34m=\u001b[0m \u001b[0;34m[\u001b[0m\u001b[0;34m]\u001b[0m\u001b[0;34m\u001b[0m\u001b[0;34m\u001b[0m\u001b[0m\n\u001b[1;32m    473\u001b[0m     \u001b[0mself\u001b[0m\u001b[0;34m.\u001b[0m\u001b[0m_targets\u001b[0m \u001b[0;34m=\u001b[0m \u001b[0;34m[\u001b[0m\u001b[0;34m]\u001b[0m\u001b[0;34m\u001b[0m\u001b[0;34m\u001b[0m\u001b[0m\n",
      "\u001b[0;32m~/.local/lib/python3.7/site-packages/tensorflow/python/client/session.py\u001b[0m in \u001b[0;36mfor_fetch\u001b[0;34m(fetch)\u001b[0m\n\u001b[1;32m    256\u001b[0m     \u001b[0;32mif\u001b[0m \u001b[0mfetch\u001b[0m \u001b[0;32mis\u001b[0m \u001b[0;32mNone\u001b[0m\u001b[0;34m:\u001b[0m\u001b[0;34m\u001b[0m\u001b[0;34m\u001b[0m\u001b[0m\n\u001b[1;32m    257\u001b[0m       raise TypeError('Fetch argument %r has invalid type %r' % (fetch,\n\u001b[0;32m--> 258\u001b[0;31m                                                                  type(fetch)))\n\u001b[0m\u001b[1;32m    259\u001b[0m     \u001b[0;32melif\u001b[0m \u001b[0misinstance\u001b[0m\u001b[0;34m(\u001b[0m\u001b[0mfetch\u001b[0m\u001b[0;34m,\u001b[0m \u001b[0;34m(\u001b[0m\u001b[0mlist\u001b[0m\u001b[0;34m,\u001b[0m \u001b[0mtuple\u001b[0m\u001b[0;34m)\u001b[0m\u001b[0;34m)\u001b[0m\u001b[0;34m:\u001b[0m\u001b[0;34m\u001b[0m\u001b[0;34m\u001b[0m\u001b[0m\n\u001b[1;32m    260\u001b[0m       \u001b[0;31m# NOTE(touts): This is also the code path for namedtuples.\u001b[0m\u001b[0;34m\u001b[0m\u001b[0;34m\u001b[0m\u001b[0;34m\u001b[0m\u001b[0m\n",
      "\u001b[0;31mTypeError\u001b[0m: Fetch argument None has invalid type <class 'NoneType'>"
     ]
    }
   ],
   "source": [
    "#Keras Model        \n",
    "def Model(X,Y,x,y, X_test, y_test):\n",
    "    model = Sequential()\n",
    "    early = keras.callbacks.EarlyStopping(monitor='val_loss', min_delta=0, patience=10, verbose=1, mode='min', baseline=None, restore_best_weights=False)\n",
    "    lrdecay = keras.callbacks.ReduceLROnPlateau(monitor='val_loss', factor=0.1, patience=10, verbose=1, mode='min', min_delta=0.0001, cooldown=0, min_lr=0.0001)\n",
    "    # Add convolution 2D\n",
    "    model.add(Conv2D(6, kernel_size=(3, 3),\n",
    "                     activation='relu',\n",
    "                     kernel_initializer='he_normal',\n",
    "                     input_shape=(nR, nC, 1)))\n",
    "    #Add Max Pooling wih Stride 2\n",
    "    model.add(MaxPooling2D((2, 2), strides = (2,2)))\n",
    "    model.add(Conv2D(16, kernel_size=(3, 3),activation='relu'))\n",
    "    model.add(Dropout(0.2))\n",
    "    model.add(MaxPooling2D(pool_size=(2, 2), strides = (2,2)))\n",
    "    model.add(Flatten())\n",
    "    model.add(Dense(128, activation='relu'))\n",
    "    # Add dropouts to the model\n",
    "    model.add(Dropout(0.25))\n",
    "    model.add(Dense(classes, activation='softmax'))\n",
    "    model.summary()\n",
    "    \n",
    "    model.compile(loss=keras.losses.categorical_crossentropy,\n",
    "                  optimizer='adam',\n",
    "                  metrics=['accuracy'])\n",
    "    model.fit(X, Y,\n",
    "              batch_size=b,\n",
    "              epochs=epochs,\n",
    "              verbose=1,\n",
    "              validation_data=(x, y), callbacks = [lrdecay, early])\n",
    "    \n",
    "    score = model.evaluate(X_test, y_test, verbose=0)\n",
    "    print('Test loss:', score[0])\n",
    "    print('Test accuracy:', score[1])\n",
    "    return\n",
    "\n",
    "with tf.Session() as sess:\n",
    "    op = Model(X_train, y_train, X_val, y_val, X_test, y_test)\n",
    "    sess.run(op)"
   ]
  },
  {
   "cell_type": "code",
   "execution_count": null,
   "metadata": {},
   "outputs": [],
   "source": []
  }
 ],
 "metadata": {
  "kernelspec": {
   "display_name": "Python 3",
   "language": "python",
   "name": "python3"
  },
  "language_info": {
   "codemirror_mode": {
    "name": "ipython",
    "version": 3
   },
   "file_extension": ".py",
   "mimetype": "text/x-python",
   "name": "python",
   "nbconvert_exporter": "python",
   "pygments_lexer": "ipython3",
   "version": "3.7.3"
  }
 },
 "nbformat": 4,
 "nbformat_minor": 2
}
